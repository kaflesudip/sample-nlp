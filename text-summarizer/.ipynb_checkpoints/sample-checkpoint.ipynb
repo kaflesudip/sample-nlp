{
 "cells": [
  {
   "cell_type": "markdown",
   "metadata": {},
   "source": [
    "## Use Python Nltk"
   ]
  },
  {
   "cell_type": "code",
   "execution_count": 1,
   "metadata": {
    "collapsed": true
   },
   "outputs": [],
   "source": [
    "import nltk\n",
    "from nltk.corpus import brown"
   ]
  },
  {
   "cell_type": "markdown",
   "metadata": {},
   "source": [
    "## Use News corpus for the training data "
   ]
  },
  {
   "cell_type": "code",
   "execution_count": 2,
   "metadata": {
    "collapsed": true
   },
   "outputs": [],
   "source": [
    "brown_train = brown.tagged_sents(categories='news')\n",
    "regexp_tagger = nltk.RegexpTagger(\n",
    "    [(r'^-?[0-9]+(.[0-9]+)?$', 'CD'),\n",
    "     (r'(-|:|;)$', ':'),\n",
    "     (r'\\'*$', 'MD'),\n",
    "     (r'(The|the|A|a|An|an)$', 'AT'),\n",
    "     (r'.*able$', 'JJ'),\n",
    "     (r'^[A-Z].*$', 'NNP'),\n",
    "     (r'.*ness$', 'NN'),\n",
    "     (r'.*ly$', 'RB'),\n",
    "     (r'.*s$', 'NNS'),\n",
    "     (r'.*ing$', 'VBG'),\n",
    "     (r'.*ed$', 'VBD'),\n",
    "     (r'.*', 'NN')\n",
    "])\n",
    "unigram_tagger = nltk.UnigramTagger(brown_train, backoff=regexp_tagger)\n",
    "bigram_tagger = nltk.BigramTagger(brown_train, backoff=unigram_tagger)\n",
    "\n",
    "cfg = {}\n",
    "cfg[\"NNP+NNP\"] = \"NNP\"\n",
    "cfg[\"NN+NN\"] = \"NNI\"\n",
    "cfg[\"NNI+NN\"] = \"NNI\"\n",
    "cfg[\"JJ+JJ\"] = \"JJ\"\n",
    "cfg[\"JJ+NN\"] = \"NNI\""
   ]
  },
  {
   "cell_type": "markdown",
   "metadata": {},
   "source": [
    "## create a Extraction class"
   ]
  },
  {
   "cell_type": "code",
   "execution_count": 3,
   "metadata": {
    "collapsed": true
   },
   "outputs": [],
   "source": [
    "\n",
    "class NPExtractor(object):\n",
    "\n",
    "    def __init__(self, sentence):\n",
    "        self.sentence = sentence\n",
    "\n",
    "    # Split the sentence into singlw words/tokens\n",
    "    def tokenize_sentence(self, sentence):\n",
    "        tokens = nltk.word_tokenize(sentence)\n",
    "        return tokens\n",
    "\n",
    "    # Normalize brown corpus' tags (\"NN\", \"NN-PL\", \"NNS\" > \"NN\")\n",
    "    def normalize_tags(self, tagged):\n",
    "        n_tagged = []\n",
    "        for t in tagged:\n",
    "            if t[1] == \"NP-TL\" or t[1] == \"NP\":\n",
    "                n_tagged.append((t[0], \"NNP\"))\n",
    "                continue\n",
    "            if t[1].endswith(\"-TL\"):\n",
    "                n_tagged.append((t[0], t[1][:-3]))\n",
    "                continue\n",
    "            if t[1].endswith(\"S\"):\n",
    "                n_tagged.append((t[0], t[1][:-1]))\n",
    "                continue\n",
    "            n_tagged.append((t[0], t[1]))\n",
    "        return n_tagged\n",
    "\n",
    "    # Extract the main topics from the sentence\n",
    "    def extract(self):\n",
    "\n",
    "        tokens = self.tokenize_sentence(self.sentence)\n",
    "        tags = self.normalize_tags(bigram_tagger.tag(tokens))\n",
    "\n",
    "        merge = True\n",
    "        while merge:\n",
    "            merge = False\n",
    "            for x in range(0, len(tags) - 1):\n",
    "                t1 = tags[x]\n",
    "                t2 = tags[x + 1]\n",
    "                key = \"%s+%s\" % (t1[1], t2[1])\n",
    "                value = cfg.get(key, '')\n",
    "                if value:\n",
    "                    merge = True\n",
    "                    tags.pop(x)\n",
    "                    tags.pop(x)\n",
    "                    match = \"%s %s\" % (t1[0], t2[0])\n",
    "                    pos = value\n",
    "                    tags.insert(x, (match, pos))\n",
    "                    break\n",
    "\n",
    "        matches = []\n",
    "        for t in tags:\n",
    "            if t[1] == \"NNP\" or t[1] == \"NNI\":\n",
    "            #if t[1] == \"NNP\" or t[1] == \"NNI\" or t[1] == \"NN\":\n",
    "                matches.append(t[0])\n",
    "        return matches"
   ]
  },
  {
   "cell_type": "markdown",
   "metadata": {},
   "source": [
    "## Example:\n",
    "Today's Apple event is likely to emphasize the power of polish. Patient folks who have waited for the refined updates to Apple's latest hardware are likely to be rewarded. Refined updates of the iPhone, Apple TV, and iPad, each with a bit more power and a handful of novel features, have been rumored to make an appearance.\n",
    "\n",
    "Read next: The iPhone 6s review.\n",
    "\n",
    "We should learn about the iPhone 6S and iPhone 6S Plus. They're likely to look the same as their predecessors, but with faster processors, an improved camera, and Force Touch, the haptic feedback already part of newer MacBook trackpads and the Apple Watch.\n",
    "\n",
    "We're hesitant to say anything, but this will probably be the year Apple updates the Apple TV. The Apple TV has been rumored for previous Apple events, only to be a no-show, but all signs point to the new Apple TV, now with a Siri integrated remote, showing up on stage. The rumored price tag is somewhere between $149 and $199, a significant bump above the $69 asking price for the current model. Perhaps Apple will show the long-rumored Apple TV video game controller.\n",
    "\n"
   ]
  },
  {
   "cell_type": "code",
   "execution_count": 4,
   "metadata": {
    "collapsed": false
   },
   "outputs": [
    {
     "name": "stdout",
     "output_type": "stream",
     "text": [
      "This sentence is about: Apple\n",
      "Other possible topics are: ['Patient', 'Apple', 'Refined', 'Apple', 'Read', 'iPhone 6s review', 'iPhone 6S', 'iPhone 6S', 'Touch', 'haptic feedback', 'MacBook', 'Apple Watch', \"'re hesitant\", 'Apple', 'Apple', 'Apple', 'Apple', 'Apple', 'Siri', 'price tag', 'significant bump', 'current model', 'Apple', 'Apple', 'TV video game controller'] \n"
     ]
    }
   ],
   "source": [
    "sentence = \"\"\"\n",
    "Today's Apple event is likely to emphasize the power of polish. Patient folks who have waited for the refined updates to Apple's latest hardware are likely to be rewarded. Refined updates of the iPhone, Apple TV, and iPad, each with a bit more power and a handful of novel features, have been rumored to make an appearance.\n",
    "\n",
    "Read next: The iPhone 6s review.\n",
    "\n",
    "We should learn about the iPhone 6S and iPhone 6S Plus. They're likely to look the same as their predecessors, but with faster processors, an improved camera, and Force Touch, the haptic feedback already part of newer MacBook trackpads and the Apple Watch.\n",
    "\n",
    "We're hesitant to say anything, but this will probably be the year Apple updates the Apple TV. The Apple TV has been rumored for previous Apple events, only to be a no-show, but all signs point to the new Apple TV, now with a Siri integrated remote, showing up on stage. The rumored price tag is somewhere between $149 and $199, a significant bump above the $69 asking price for the current model. Perhaps Apple will show the long-rumored Apple TV video game controller.\n",
    "\n",
    "\n",
    "\"\"\"\n",
    "np_extractor = NPExtractor(sentence)\n",
    "result = np_extractor.extract()\n",
    "print(\"This sentence is about: {0}\".format(result[0]))\n",
    "print(\"Other possible topics are: {0} \".format(result[1:]))"
   ]
  },
  {
   "cell_type": "code",
   "execution_count": null,
   "metadata": {
    "collapsed": true
   },
   "outputs": [],
   "source": []
  },
  {
   "cell_type": "code",
   "execution_count": null,
   "metadata": {
    "collapsed": true
   },
   "outputs": [],
   "source": []
  }
 ],
 "metadata": {
  "kernelspec": {
   "display_name": "Python 3",
   "language": "python",
   "name": "python3"
  },
  "language_info": {
   "codemirror_mode": {
    "name": "ipython",
    "version": 3
   },
   "file_extension": ".py",
   "mimetype": "text/x-python",
   "name": "python",
   "nbconvert_exporter": "python",
   "pygments_lexer": "ipython3",
   "version": "3.4.0"
  }
 },
 "nbformat": 4,
 "nbformat_minor": 0
}
